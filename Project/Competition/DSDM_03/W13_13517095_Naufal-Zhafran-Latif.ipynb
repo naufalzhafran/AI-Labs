{
 "cells": [
  {
   "cell_type": "markdown",
   "metadata": {},
   "source": [
    "# Week 13 Handson - Clustering\n",
    "In this hands-on, we will empoy clustering technique to cluster data."
   ]
  },
  {
   "cell_type": "markdown",
   "metadata": {},
   "source": [
    "## Read the Dataset\n",
    "\n",
    "Execute the following code to read the digit mnist dataset. The folder of `digit_mnist` dataset must be in the same directory with this ipynb file.\n",
    "\n",
    "The dataset contains 500 digit handwritten images from 5 different classes/labels (0, 1, 2, 3, 4). The first 100 images have label of 0, the second 100 images have label of 1, and so on, until the fifth 100 images have label of 4."
   ]
  },
  {
   "cell_type": "code",
   "execution_count": 13,
   "metadata": {},
   "outputs": [
    {
     "name": "stdout",
     "output_type": "stream",
     "text": [
      "shape: (500, 784)\n"
     ]
    }
   ],
   "source": [
    "# membaca library yang dibutuhkan\n",
    "import numpy as np #library untuk komputasi matriks\n",
    "import cv2 #library untuk memproses gambar/video\n",
    "import matplotlib.pyplot as plt #library untuk plot data (visualisasi)\n",
    "import os\n",
    "\n",
    "# fungsi untuk membaca gambar (digit MNIST) ke matriks numpy per folder\n",
    "def baca_image(folder_image):\n",
    "    count = 0;\n",
    "    list_nama_image= os.listdir(folder_image)\n",
    "    list_path_image = [os.path.join(folder_image, i) for i in list_nama_image]\n",
    "    all_image = np.ndarray(shape=(0,28*28))\n",
    "    for i in list_path_image:\n",
    "        image = cv2.imread(i, 0) #baca image menggunakan OpenCV API dalam gray image (0=gray, 1=berwarna).\n",
    "        image_reshaped = image.reshape((1, -1))\n",
    "        all_image = np.concatenate((all_image, image_reshaped), axis=0)\n",
    "        count = count + 1\n",
    "        if count >= 100:\n",
    "            break\n",
    "    return all_image\n",
    "        \n",
    "# menggunakan fungsi yg telah dibuat untuk membaca image MNIST '0' sampai '4' \n",
    "for angka in range(5):\n",
    "    file = \"digit_mnist/\" + str(angka)\n",
    "    digit = baca_image(file)\n",
    "    if angka == 0:\n",
    "        X = digit\n",
    "    else :\n",
    "        X = np.concatenate((X, digit), axis=0)\n",
    "\n",
    "print(\"shape:\", X.shape)"
   ]
  },
  {
   "cell_type": "markdown",
   "metadata": {},
   "source": [
    "## Milestone 01 (M01)\n",
    "In this milestone, you are asked to empoy clustering method to cluster the digit MNIST read above, into 5 clusters. The output of this milestone is clustered data. You may use any clustering method from any library you want."
   ]
  },
  {
   "cell_type": "code",
   "execution_count": 65,
   "metadata": {},
   "outputs": [
    {
     "data": {
      "text/plain": [
       "array([1, 1, 1, 1, 1, 1, 1, 1, 1, 1, 1, 1, 2, 1, 2, 1, 1, 1, 1, 2, 3, 2,\n",
       "       1, 1, 2, 1, 1, 1, 1, 1, 1, 2, 2, 1, 1, 1, 1, 1, 3, 1, 1, 2, 1, 1,\n",
       "       1, 1, 1, 1, 1, 1, 1, 2, 1, 1, 2, 1, 2, 1, 1, 1, 1, 1, 1, 1, 1, 1,\n",
       "       2, 2, 1, 1, 1, 2, 1, 1, 1, 1, 1, 1, 1, 1, 1, 1, 1, 1, 1, 1, 1, 1,\n",
       "       1, 1, 1, 1, 1, 1, 1, 1, 1, 1, 1, 1, 0, 4, 0, 0, 0, 0, 0, 0, 0, 0,\n",
       "       0, 0, 0, 0, 0, 0, 0, 0, 0, 0, 0, 0, 0, 0, 2, 0, 0, 0, 0, 0, 0, 0,\n",
       "       0, 0, 0, 0, 0, 0, 0, 0, 0, 0, 0, 0, 0, 0, 0, 0, 0, 0, 0, 0, 0, 0,\n",
       "       0, 0, 0, 0, 0, 0, 0, 0, 0, 0, 0, 0, 0, 0, 0, 0, 0, 0, 0, 0, 0, 0,\n",
       "       0, 0, 0, 0, 0, 0, 0, 0, 0, 0, 0, 0, 0, 0, 0, 0, 0, 0, 0, 0, 0, 0,\n",
       "       0, 3, 4, 4, 4, 3, 0, 4, 0, 4, 0, 4, 4, 4, 3, 4, 4, 4, 4, 2, 4, 4,\n",
       "       4, 3, 4, 4, 4, 0, 0, 4, 4, 4, 2, 3, 4, 1, 0, 4, 4, 2, 0, 0, 4, 4,\n",
       "       4, 4, 2, 0, 0, 4, 4, 4, 4, 4, 4, 3, 0, 2, 0, 4, 2, 4, 0, 0, 4, 4,\n",
       "       4, 4, 4, 4, 2, 4, 4, 4, 4, 4, 4, 4, 4, 4, 4, 4, 4, 4, 4, 4, 4, 3,\n",
       "       4, 4, 2, 0, 2, 0, 4, 4, 4, 2, 4, 4, 4, 4, 2, 2, 4, 2, 2, 2, 0, 2,\n",
       "       2, 2, 2, 2, 2, 2, 2, 2, 2, 2, 3, 2, 2, 2, 2, 2, 2, 2, 2, 2, 4, 2,\n",
       "       2, 2, 2, 2, 0, 2, 2, 2, 3, 2, 2, 2, 2, 2, 2, 2, 2, 2, 2, 2, 2, 2,\n",
       "       2, 2, 2, 2, 2, 2, 2, 2, 2, 2, 2, 2, 2, 4, 2, 2, 0, 2, 3, 2, 2, 2,\n",
       "       2, 2, 2, 2, 2, 2, 2, 2, 2, 2, 2, 0, 2, 2, 2, 2, 2, 2, 0, 2, 2, 0,\n",
       "       2, 2, 2, 2, 3, 3, 3, 3, 3, 3, 3, 3, 3, 3, 3, 3, 3, 3, 3, 3, 3, 3,\n",
       "       3, 3, 3, 3, 3, 3, 3, 3, 3, 3, 3, 3, 3, 3, 3, 3, 3, 3, 3, 3, 3, 3,\n",
       "       3, 3, 3, 3, 3, 3, 3, 3, 3, 3, 3, 3, 3, 3, 3, 3, 3, 3, 3, 3, 3, 3,\n",
       "       3, 3, 3, 3, 3, 3, 3, 3, 3, 3, 3, 3, 3, 3, 3, 3, 3, 3, 3, 3, 3, 3,\n",
       "       3, 3, 3, 3, 3, 3, 3, 3, 3, 4, 3, 3, 3, 3, 3, 3], dtype=int32)"
      ]
     },
     "execution_count": 65,
     "metadata": {},
     "output_type": "execute_result"
    }
   ],
   "source": [
    "from sklearn.cluster import KMeans\n",
    "\n",
    "db = KMeans(n_clusters=5,n_init=1,random_state=11).fit(X)\n",
    "\n",
    "db.labels_"
   ]
  },
  {
   "cell_type": "markdown",
   "metadata": {},
   "source": [
    "## M02\n",
    "Evaluate the clustering results in M01, as follows.\n",
    "1. For each cluster, take the dominant class. E.g., in cluster 1, 96% data are digit 3 images, thus, all images in the cluster 1 have class prediction of 3 (digit 3). Likewise for other clusters.\n",
    "2. With that prediction ouput, evaluate the clustering result using metrics of: (i) accuracy, (ii) precision: $TP/pred. yes$ and recall$: TP/actual yes$ for each class.\n",
    "3. Print the metrics you get in (2)."
   ]
  },
  {
   "cell_type": "code",
   "execution_count": 92,
   "metadata": {},
   "outputs": [
    {
     "name": "stdout",
     "output_type": "stream",
     "text": [
      "1\n",
      "0\n",
      "4\n",
      "2\n",
      "3\n",
      "[1 1 1 1 1 1 1 1 1 1 1 1 1 1 1 1 1 1 1 1 1 1 1 1 1 1 1 1 1 1 1 1 1 1 1 1 1\n",
      " 1 1 1 1 1 1 1 1 1 1 1 1 1 1 1 1 1 1 1 1 1 1 1 1 1 1 1 1 1 1 1 1 1 1 1 1 1\n",
      " 1 1 1 1 1 1 1 1 1 1 1 1 1 1 1 1 1 1 1 1 1 1 1 1 1 0 0 0 0 0 0 0 0 0 0 0 0\n",
      " 0 0 0 0 0 0 0 0 0 0 0 0 0 0 0 0 0 0 0 0 0 0 0 0 0 0 0 0 0 0 0 0 0 0 0 0 0\n",
      " 0 0 0 0 0 0 0 0 0 0 0 0 0 0 0 0 0 0 0 0 0 0 0 0 0 0 0 0 0 0 0 0 0 0 0 0 0\n",
      " 0 0 0 0 0 0 0 0 0 0 0 0 0 0 0 4 4 4 4 4 4 4 4 4 4 4 4 4 4 4 4 4 4 4 4 4 4\n",
      " 4 4 4 4 4 4 4 4 4 4 4 4 4 4 4 4 4 4 4 4 4 4 4 4 4 4 4 4 4 4 4 4 4 4 4 4 4\n",
      " 4 4 4 4 4 4 4 4 4 4 4 4 4 4 4 4 4 4 4 4 4 4 4 4 4 4 4 4 4 4 4 4 4 4 4 4 4\n",
      " 4 4 4 0 2 2 2 2 2 2 2 2 2 2 2 2 2 2 2 2 2 2 2 2 2 2 2 2 2 2 2 2 2 2 2 2 2\n",
      " 2 2 2 2 2 2 2 2 2 2 2 2 2 2 2 2 2 2 2 2 2 2 2 2 2 2 2 2 2 2 2 2 2 2 2 2 2\n",
      " 2 2 2 2 2 2 2 2 2 2 2 2 2 2 2 2 2 2 2 2 2 2 2 2 2 2 2 2 2 0 3 3 3 3 3 3 3\n",
      " 3 3 3 3 3 3 3 3 3 3 3 3 3 3 3 3 3 3 3 3 3 3 3 3 3 3 3 3 3 3 3 3 3 3 3 3 3\n",
      " 3 3 3 3 3 3 3 3 3 3 3 3 3 3 3 3 3 3 3 3 3 3 3 3 3 3 3 3 3 3 3 3 3 3 3 3 3\n",
      " 3 3 3 3 3 3 3 3 3 3 3 3 3 3 3 3 3 3 0]\n"
     ]
    }
   ],
   "source": [
    "arr_classes = np.array([],dtype='int32')\n",
    "arr_targeted = np.zeros(500,dtype='int32')\n",
    "for i in range(5):\n",
    "    unique_elements, counts_elements = np.unique(db.labels_[i * 100:i * 100 + 99], return_counts=True)\n",
    "    arr_targeted[i * 100:i * 100 + 99] = unique_elements[np.argmax(counts_elements)]\n",
    "    arr_classes = np.append(arr_classes,unique_elements[np.argmax(counts_elements)])\n",
    "    print(unique_elements[np.argmax(counts_elements)])\n",
    "print(arr_targeted)"
   ]
  },
  {
   "cell_type": "code",
   "execution_count": 105,
   "metadata": {},
   "outputs": [
    {
     "name": "stdout",
     "output_type": "stream",
     "text": [
      "Accuracy 0.862\n",
      "Precision 0.8716406836449002\n",
      "Precision 0.862\n"
     ]
    }
   ],
   "source": [
    "from sklearn.metrics import accuracy_score\n",
    "from sklearn.metrics import precision_score\n",
    "from sklearn.metrics import recall_score\n",
    "\n",
    "print('Accuracy' ,accuracy_score(arr_targeted,db.labels_))\n",
    "print('Precision' ,precision_score(arr_targeted,db.labels_,average='weighted'))\n",
    "print('Precision' ,recall_score(arr_targeted,db.labels_,average='weighted'))"
   ]
  },
  {
   "cell_type": "markdown",
   "metadata": {},
   "source": [
    "## M03"
   ]
  },
  {
   "cell_type": "markdown",
   "metadata": {},
   "source": [
    "Suppose you are working for goverment that they want to lauch development program to society. The program is expected to empower the society to improve their welfare. Given sample dataset of `people.csv` (provided in the zip), you are asked to segment the data. The data attibutes are: name, age, marital status, income range, gender, total children, children at home, education, occupation, home owner, cars. You may define your own variables, such as the number of segments, attributes that are used, etc. Please provide your arguments of choosing those variables, and show (or visualize) the segments you create, including at least brief explanation."
   ]
  },
  {
   "cell_type": "code",
   "execution_count": 113,
   "metadata": {},
   "outputs": [
    {
     "data": {
      "text/html": [
       "<div>\n",
       "<style scoped>\n",
       "    .dataframe tbody tr th:only-of-type {\n",
       "        vertical-align: middle;\n",
       "    }\n",
       "\n",
       "    .dataframe tbody tr th {\n",
       "        vertical-align: top;\n",
       "    }\n",
       "\n",
       "    .dataframe thead th {\n",
       "        text-align: right;\n",
       "    }\n",
       "</style>\n",
       "<table border=\"1\" class=\"dataframe\">\n",
       "  <thead>\n",
       "    <tr style=\"text-align: right;\">\n",
       "      <th></th>\n",
       "      <th>Name</th>\n",
       "      <th>Age</th>\n",
       "      <th>MaritalStatus</th>\n",
       "      <th>IncomeRange</th>\n",
       "      <th>Gender</th>\n",
       "      <th>TotalChildren</th>\n",
       "      <th>ChildrenAtHome</th>\n",
       "      <th>Education</th>\n",
       "      <th>Occupation</th>\n",
       "      <th>HomeOwner</th>\n",
       "      <th>Cars</th>\n",
       "    </tr>\n",
       "  </thead>\n",
       "  <tbody>\n",
       "    <tr>\n",
       "      <th>0</th>\n",
       "      <td>Aaron Adams</td>\n",
       "      <td>42</td>\n",
       "      <td>0</td>\n",
       "      <td>50000</td>\n",
       "      <td>0</td>\n",
       "      <td>0</td>\n",
       "      <td>0</td>\n",
       "      <td>3</td>\n",
       "      <td>2</td>\n",
       "      <td>1</td>\n",
       "      <td>1</td>\n",
       "    </tr>\n",
       "    <tr>\n",
       "      <th>1</th>\n",
       "      <td>Aaron Alexander</td>\n",
       "      <td>40</td>\n",
       "      <td>1</td>\n",
       "      <td>50000</td>\n",
       "      <td>0</td>\n",
       "      <td>0</td>\n",
       "      <td>0</td>\n",
       "      <td>2</td>\n",
       "      <td>2</td>\n",
       "      <td>1</td>\n",
       "      <td>2</td>\n",
       "    </tr>\n",
       "    <tr>\n",
       "      <th>2</th>\n",
       "      <td>Aaron Allen</td>\n",
       "      <td>63</td>\n",
       "      <td>0</td>\n",
       "      <td>25000</td>\n",
       "      <td>0</td>\n",
       "      <td>2</td>\n",
       "      <td>1</td>\n",
       "      <td>2</td>\n",
       "      <td>1</td>\n",
       "      <td>1</td>\n",
       "      <td>2</td>\n",
       "    </tr>\n",
       "    <tr>\n",
       "      <th>3</th>\n",
       "      <td>Aaron Baker</td>\n",
       "      <td>56</td>\n",
       "      <td>1</td>\n",
       "      <td>50000</td>\n",
       "      <td>0</td>\n",
       "      <td>4</td>\n",
       "      <td>2</td>\n",
       "      <td>2</td>\n",
       "      <td>2</td>\n",
       "      <td>1</td>\n",
       "      <td>2</td>\n",
       "    </tr>\n",
       "    <tr>\n",
       "      <th>4</th>\n",
       "      <td>Aaron Bryant</td>\n",
       "      <td>72</td>\n",
       "      <td>0</td>\n",
       "      <td>75000</td>\n",
       "      <td>0</td>\n",
       "      <td>4</td>\n",
       "      <td>0</td>\n",
       "      <td>4</td>\n",
       "      <td>4</td>\n",
       "      <td>1</td>\n",
       "      <td>2</td>\n",
       "    </tr>\n",
       "  </tbody>\n",
       "</table>\n",
       "</div>"
      ],
      "text/plain": [
       "              Name  Age  MaritalStatus  IncomeRange  Gender  TotalChildren  \\\n",
       "0      Aaron Adams   42              0        50000       0              0   \n",
       "1  Aaron Alexander   40              1        50000       0              0   \n",
       "2      Aaron Allen   63              0        25000       0              2   \n",
       "3      Aaron Baker   56              1        50000       0              4   \n",
       "4     Aaron Bryant   72              0        75000       0              4   \n",
       "\n",
       "   ChildrenAtHome  Education  Occupation  HomeOwner  Cars  \n",
       "0               0          3           2          1     1  \n",
       "1               0          2           2          1     2  \n",
       "2               1          2           1          1     2  \n",
       "3               2          2           2          1     2  \n",
       "4               0          4           4          1     2  "
      ]
     },
     "execution_count": 113,
     "metadata": {},
     "output_type": "execute_result"
    }
   ],
   "source": [
    "import pandas as pd\n",
    "\n",
    "dataset = pd.read_csv('people.csv',encoding='ISO-8859-1')\n",
    "dataset.head()"
   ]
  },
  {
   "cell_type": "code",
   "execution_count": 111,
   "metadata": {},
   "outputs": [
    {
     "data": {
      "text/plain": [
       "{'encoding': 'ISO-8859-1', 'confidence': 0.73, 'language': ''}"
      ]
     },
     "execution_count": 111,
     "metadata": {},
     "output_type": "execute_result"
    }
   ],
   "source": []
  },
  {
   "cell_type": "code",
   "execution_count": null,
   "metadata": {},
   "outputs": [],
   "source": []
  }
 ],
 "metadata": {
  "kernelspec": {
   "display_name": "Python 3",
   "language": "python",
   "name": "python3"
  },
  "language_info": {
   "codemirror_mode": {
    "name": "ipython",
    "version": 3
   },
   "file_extension": ".py",
   "mimetype": "text/x-python",
   "name": "python",
   "nbconvert_exporter": "python",
   "pygments_lexer": "ipython3",
   "version": "3.8.3"
  }
 },
 "nbformat": 4,
 "nbformat_minor": 4
}
